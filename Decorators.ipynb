{
  "nbformat": 4,
  "nbformat_minor": 0,
  "metadata": {
    "colab": {
      "name": "Untitled39.ipynb",
      "provenance": [],
      "authorship_tag": "ABX9TyOSV7i4A1Y7Tuifvumv44ZT",
      "include_colab_link": true
    },
    "kernelspec": {
      "name": "python3",
      "display_name": "Python 3"
    },
    "language_info": {
      "name": "python"
    }
  },
  "cells": [
    {
      "cell_type": "markdown",
      "metadata": {
        "id": "view-in-github",
        "colab_type": "text"
      },
      "source": [
        "<a href=\"https://colab.research.google.com/github/barthas1985/Stock_indicators_Warsaw_Stock_Exchange/blob/main/Decorators.ipynb\" target=\"_parent\"><img src=\"https://colab.research.google.com/assets/colab-badge.svg\" alt=\"Open In Colab\"/></a>"
      ]
    },
    {
      "cell_type": "code",
      "execution_count": 25,
      "metadata": {
        "colab": {
          "base_uri": "https://localhost:8080/"
        },
        "id": "t7NhlKoElXvH",
        "outputId": "93fab06f-b111-4e69-b0bf-3709787c2081"
      },
      "outputs": [
        {
          "output_type": "stream",
          "name": "stdout",
          "text": [
            "Wrapper executed this before display\n",
            "display function ran\n"
          ]
        }
      ],
      "source": [
        "#Decorators\n",
        "def outer_function(msg): # outer function taht does not take any parameters\n",
        "  message = 'Hi' # local variable #'Hi' is an argument\n",
        "\n",
        "  def inner_function(): #inner function have access to to 'message 'variable\n",
        "    print (message)\n",
        "  return inner_function\n",
        "  \n",
        "\n",
        "#hi =outer_function('hi') # ready to be executed\n",
        "#hi() #Execution\n",
        "\n",
        "# Decorator is a function that takes another function as an argument.\n",
        "\n",
        "def decorator_function(original_function):\n",
        "  def wrapper_function():\n",
        "    print(f'Wrapper executed this before {original_function.__name__}')\n",
        "    return original_function()\n",
        "  return wrapper_function\n",
        "@decorator_function # is equal to  display = decorator_function(display)\n",
        "def display():\n",
        "    print('display function ran')\n",
        "\n",
        "decorated_display = decorator_function(display)\n",
        "decorated_display()\n",
        "\n"
      ]
    }
  ]
}