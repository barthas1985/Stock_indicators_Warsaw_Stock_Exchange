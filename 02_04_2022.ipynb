{
  "nbformat": 4,
  "nbformat_minor": 0,
  "metadata": {
    "colab": {
      "name": "02_04_2022.ipynb",
      "provenance": [],
      "collapsed_sections": [],
      "authorship_tag": "ABX9TyN+HY5wFatP7dEI0IqJkgET",
      "include_colab_link": true
    },
    "kernelspec": {
      "name": "python3",
      "display_name": "Python 3"
    },
    "language_info": {
      "name": "python"
    }
  },
  "cells": [
    {
      "cell_type": "markdown",
      "metadata": {
        "id": "view-in-github",
        "colab_type": "text"
      },
      "source": [
        "<a href=\"https://colab.research.google.com/github/barthas1985/Stock_indicators_Warsaw_Stock_Exchange/blob/main/02_04_2022.ipynb\" target=\"_parent\"><img src=\"https://colab.research.google.com/assets/colab-badge.svg\" alt=\"Open In Colab\"/></a>"
      ]
    },
    {
      "cell_type": "code",
      "execution_count": 56,
      "metadata": {
        "colab": {
          "base_uri": "https://localhost:8080/"
        },
        "id": "NLQyKpcmK9aM",
        "outputId": "b74548f7-184d-497d-a04a-5632f1f4c765"
      },
      "outputs": [
        {
          "output_type": "stream",
          "name": "stdout",
          "text": [
            " * Starting MySQL database server mysqld\n",
            "   ...done.\n",
            "ERROR 1045 (28000): Access denied for user 'root'@'localhost' (using password: NO)\n"
          ]
        }
      ],
      "source": [
        "!apt-get install mysql-server > /dev/null\n",
        "!service mysql start\n",
        "!mysql -e \"ALTER USER 'root'@'localhost' IDENTIFIED WITH mysql_native_password BY 'root'\"\n",
        "!pip -q install PyMySQL"
      ]
    },
    {
      "cell_type": "code",
      "source": [
        "!pip install SQLAlchemy-Utils"
      ],
      "metadata": {
        "colab": {
          "base_uri": "https://localhost:8080/"
        },
        "id": "Xq2WGfl6LWCP",
        "outputId": "9d60c4da-e660-4c38-ef19-390116f3dbe8"
      },
      "execution_count": 57,
      "outputs": [
        {
          "output_type": "stream",
          "name": "stdout",
          "text": [
            "Requirement already satisfied: SQLAlchemy-Utils in /usr/local/lib/python3.7/dist-packages (0.38.2)\n",
            "Requirement already satisfied: SQLAlchemy>=1.0 in /usr/local/lib/python3.7/dist-packages (from SQLAlchemy-Utils) (1.4.32)\n",
            "Requirement already satisfied: six in /usr/local/lib/python3.7/dist-packages (from SQLAlchemy-Utils) (1.15.0)\n",
            "Requirement already satisfied: greenlet!=0.4.17 in /usr/local/lib/python3.7/dist-packages (from SQLAlchemy>=1.0->SQLAlchemy-Utils) (1.1.2)\n",
            "Requirement already satisfied: importlib-metadata in /usr/local/lib/python3.7/dist-packages (from SQLAlchemy>=1.0->SQLAlchemy-Utils) (4.11.3)\n",
            "Requirement already satisfied: typing-extensions>=3.6.4 in /usr/local/lib/python3.7/dist-packages (from importlib-metadata->SQLAlchemy>=1.0->SQLAlchemy-Utils) (3.10.0.2)\n",
            "Requirement already satisfied: zipp>=0.5 in /usr/local/lib/python3.7/dist-packages (from importlib-metadata->SQLAlchemy>=1.0->SQLAlchemy-Utils) (3.7.0)\n"
          ]
        }
      ]
    },
    {
      "cell_type": "code",
      "source": [
        "from sqlalchemy import create_engine\n",
        "from sqlalchemy_utils import create_database, database_exists "
      ],
      "metadata": {
        "id": "72HBvXJHLmn3"
      },
      "execution_count": 58,
      "outputs": []
    },
    {
      "cell_type": "code",
      "source": [
        "engine = create_engine('sqlite:///mydb.db', echo = True) # Śczieżka do bazy danych, podstawowa ścieżka do bazy danych"
      ],
      "metadata": {
        "id": "X6Ib1U5ENIsX"
      },
      "execution_count": 59,
      "outputs": []
    },
    {
      "cell_type": "code",
      "source": [
        "if not database_exists(engine.url):\n",
        "  create_database(engine.url)"
      ],
      "metadata": {
        "id": "vmgLYJCROtOP"
      },
      "execution_count": 60,
      "outputs": []
    },
    {
      "cell_type": "markdown",
      "source": [
        "CREATE SESSION - for ORM"
      ],
      "metadata": {
        "id": "FxyEynauPxVI"
      }
    },
    {
      "cell_type": "code",
      "source": [
        "from sqlalchemy.orm import sessionmaker as s"
      ],
      "metadata": {
        "id": "EL8pcE-6P0Te"
      },
      "execution_count": 61,
      "outputs": []
    },
    {
      "cell_type": "code",
      "source": [
        "Session = s(bind = engine)"
      ],
      "metadata": {
        "id": "grCQI70WP8j2"
      },
      "execution_count": 62,
      "outputs": []
    },
    {
      "cell_type": "code",
      "source": [
        ""
      ],
      "metadata": {
        "id": "-5SN8C8dQPH-"
      },
      "execution_count": 62,
      "outputs": []
    },
    {
      "cell_type": "markdown",
      "source": [
        "Define Table"
      ],
      "metadata": {
        "id": "MWhjcInsQ8V-"
      }
    },
    {
      "cell_type": "code",
      "source": [
        "from sqlalchemy.orm import declarative_base as db\n",
        "from sqlalchemy import Column, Integer, String, Float"
      ],
      "metadata": {
        "id": "SvQlozu1Q-ud"
      },
      "execution_count": 63,
      "outputs": []
    },
    {
      "cell_type": "code",
      "source": [
        "Base = db()"
      ],
      "metadata": {
        "id": "-i25aF5fSBom"
      },
      "execution_count": 64,
      "outputs": []
    },
    {
      "cell_type": "code",
      "source": [
        "class User(Base):\n",
        "  __tablename__ = 'users'\n",
        "  id = Column(Integer, primary_key = True)\n",
        "  name =Column(String)\n",
        "  fullname = Column(String)\n",
        "  nickname = Column(String)"
      ],
      "metadata": {
        "id": "tvfdHP5zSNxV"
      },
      "execution_count": 65,
      "outputs": []
    },
    {
      "cell_type": "code",
      "source": [
        "session1 = Session()"
      ],
      "metadata": {
        "id": "MRtLiyPLTh4e"
      },
      "execution_count": 66,
      "outputs": []
    },
    {
      "cell_type": "code",
      "source": [
        "session1.new"
      ],
      "metadata": {
        "colab": {
          "base_uri": "https://localhost:8080/"
        },
        "id": "xrzxTIBRTol9",
        "outputId": "0d12f542-d539-48e0-fde2-1ee0a1a93720"
      },
      "execution_count": 67,
      "outputs": [
        {
          "output_type": "execute_result",
          "data": {
            "text/plain": [
              "IdentitySet([])"
            ]
          },
          "metadata": {},
          "execution_count": 67
        }
      ]
    },
    {
      "cell_type": "code",
      "source": [
        "session1.add(\n",
        "    User(name = 'James', fullname = 'James Bond', nickname = '007')\n",
        ")"
      ],
      "metadata": {
        "id": "Wc9B9YE0TsXW"
      },
      "execution_count": 68,
      "outputs": []
    },
    {
      "cell_type": "code",
      "source": [
        "session1.new"
      ],
      "metadata": {
        "colab": {
          "base_uri": "https://localhost:8080/"
        },
        "id": "K6TLApevUK7o",
        "outputId": "1f488b0e-cf4d-4704-f881-3144c0929b10"
      },
      "execution_count": 69,
      "outputs": [
        {
          "output_type": "execute_result",
          "data": {
            "text/plain": [
              "IdentitySet([<__main__.User object at 0x7f915fc8e510>])"
            ]
          },
          "metadata": {},
          "execution_count": 69
        }
      ]
    },
    {
      "cell_type": "code",
      "source": [
        "bond = User(name = 'James', fullname = 'James Bond', nickname = '007')\n",
        "bond.name"
      ],
      "metadata": {
        "colab": {
          "base_uri": "https://localhost:8080/",
          "height": 35
        },
        "id": "3alo5loAUVnu",
        "outputId": "f81321db-c98c-4258-e208-0161af248390"
      },
      "execution_count": 70,
      "outputs": [
        {
          "output_type": "execute_result",
          "data": {
            "text/plain": [
              "'James'"
            ],
            "application/vnd.google.colaboratory.intrinsic+json": {
              "type": "string"
            }
          },
          "metadata": {},
          "execution_count": 70
        }
      ]
    },
    {
      "cell_type": "markdown",
      "source": [
        "#Formatowanie obiektów klasy metodą __repr__"
      ],
      "metadata": {
        "id": "wLAkSIH2YEyO"
      }
    },
    {
      "cell_type": "code",
      "source": [
        "class User(Base):\n",
        "  __tablename__ = 'users_new'\n",
        "  id = Column(Integer, primary_key = True)\n",
        "  name =Column(String)\n",
        "  fullname = Column(String)\n",
        "  nickname = Column(String)\n",
        "  def __repr__(self):\n",
        "    return f'User(name = {self.name}, fullname = {self.fullname}, nickname = {self.nickname}'\n",
        "    \n"
      ],
      "metadata": {
        "colab": {
          "base_uri": "https://localhost:8080/"
        },
        "id": "e3Nov89lYQhd",
        "outputId": "b7db4f45-e90f-44ca-db64-1dd26f519173"
      },
      "execution_count": 71,
      "outputs": [
        {
          "output_type": "stream",
          "name": "stderr",
          "text": [
            "/usr/local/lib/python3.7/dist-packages/ipykernel_launcher.py:1: SAWarning: This declarative base already contains a class with the same class name and module name as __main__.User, and will be replaced in the string-lookup table.\n",
            "  \"\"\"Entry point for launching an IPython kernel.\n"
          ]
        }
      ]
    },
    {
      "cell_type": "code",
      "source": [
        "new_user = User(name = 'Bartek', fullname= 'Bartek Gajek', nickname = 'Bart')\n",
        "new_user"
      ],
      "metadata": {
        "id": "IS_KK9luZpCH",
        "outputId": "6f766200-ec12-41b6-bdfb-f317191037b7",
        "colab": {
          "base_uri": "https://localhost:8080/"
        }
      },
      "execution_count": 72,
      "outputs": [
        {
          "output_type": "execute_result",
          "data": {
            "text/plain": [
              "User(name = Bartek, fullname = Bartek Gajek, nickname = Bart"
            ]
          },
          "metadata": {},
          "execution_count": 72
        }
      ]
    },
    {
      "cell_type": "code",
      "source": [
        "session2 = Session()\n"
      ],
      "metadata": {
        "id": "KWQy2YITaAHO"
      },
      "execution_count": 73,
      "outputs": []
    },
    {
      "cell_type": "code",
      "source": [
        "session2.add(\n",
        "    User(name = 'James', fullname = 'James Bond', nickname = '007')\n",
        ")"
      ],
      "metadata": {
        "id": "-PEolNbsaK_9"
      },
      "execution_count": 74,
      "outputs": []
    },
    {
      "cell_type": "code",
      "source": [
        "session2.new"
      ],
      "metadata": {
        "id": "24wn2YT7aV2d",
        "outputId": "387646ab-90cb-4344-8fc7-0ef7cc8ef443",
        "colab": {
          "base_uri": "https://localhost:8080/"
        }
      },
      "execution_count": 75,
      "outputs": [
        {
          "output_type": "execute_result",
          "data": {
            "text/plain": [
              "IdentitySet([User(name = James, fullname = James Bond, nickname = 007])"
            ]
          },
          "metadata": {},
          "execution_count": 75
        }
      ]
    },
    {
      "cell_type": "code",
      "source": [
        "session2.add_all(\n",
        "    [\n",
        "     User(name = 'user1', fullname = 'User 1 USer', nickname = '005'),\n",
        "     User(name = 'Johnny', fullname = 'Johnny Cash', nickname = '$$')\n",
        "    ]\n",
        ")"
      ],
      "metadata": {
        "id": "MGhjRgqeaaIl"
      },
      "execution_count": 76,
      "outputs": []
    },
    {
      "cell_type": "code",
      "source": [
        "session2.new"
      ],
      "metadata": {
        "id": "m_PWP-iFbBBO",
        "outputId": "a2be7d02-ca2b-4eee-ba96-c30f5780c630",
        "colab": {
          "base_uri": "https://localhost:8080/"
        }
      },
      "execution_count": 77,
      "outputs": [
        {
          "output_type": "execute_result",
          "data": {
            "text/plain": [
              "IdentitySet([User(name = James, fullname = James Bond, nickname = 007, User(name = user1, fullname = User 1 USer, nickname = 005, User(name = Johnny, fullname = Johnny Cash, nickname = $$])"
            ]
          },
          "metadata": {},
          "execution_count": 77
        }
      ]
    },
    {
      "cell_type": "code",
      "source": [
        "Base.metadata.create_all(engine)"
      ],
      "metadata": {
        "id": "b0tmSVGgbtSf",
        "outputId": "31895194-5a7e-43f8-f6d6-3333b97d7404",
        "colab": {
          "base_uri": "https://localhost:8080/"
        }
      },
      "execution_count": 78,
      "outputs": [
        {
          "output_type": "stream",
          "name": "stdout",
          "text": [
            "2022-04-02 08:43:51,776 INFO sqlalchemy.engine.Engine BEGIN (implicit)\n",
            "2022-04-02 08:43:51,783 INFO sqlalchemy.engine.Engine PRAGMA main.table_info(\"users\")\n",
            "2022-04-02 08:43:51,788 INFO sqlalchemy.engine.Engine [raw sql] ()\n",
            "2022-04-02 08:43:51,794 INFO sqlalchemy.engine.Engine PRAGMA main.table_info(\"users_new\")\n",
            "2022-04-02 08:43:51,796 INFO sqlalchemy.engine.Engine [raw sql] ()\n",
            "2022-04-02 08:43:51,797 INFO sqlalchemy.engine.Engine COMMIT\n"
          ]
        }
      ]
    },
    {
      "cell_type": "code",
      "source": [
        "session2.commit()"
      ],
      "metadata": {
        "id": "Ngxz5soOcNKO",
        "outputId": "26f3a8d3-11eb-488b-f774-a34230d548c1",
        "colab": {
          "base_uri": "https://localhost:8080/"
        }
      },
      "execution_count": 79,
      "outputs": [
        {
          "output_type": "stream",
          "name": "stdout",
          "text": [
            "2022-04-02 08:43:51,808 INFO sqlalchemy.engine.Engine BEGIN (implicit)\n",
            "2022-04-02 08:43:51,816 INFO sqlalchemy.engine.Engine INSERT INTO users_new (name, fullname, nickname) VALUES (?, ?, ?)\n",
            "2022-04-02 08:43:51,818 INFO sqlalchemy.engine.Engine [generated in 0.00188s] ('James', 'James Bond', '007')\n",
            "2022-04-02 08:43:51,820 INFO sqlalchemy.engine.Engine INSERT INTO users_new (name, fullname, nickname) VALUES (?, ?, ?)\n",
            "2022-04-02 08:43:51,823 INFO sqlalchemy.engine.Engine [cached since 0.006741s ago] ('user1', 'User 1 USer', '005')\n",
            "2022-04-02 08:43:51,829 INFO sqlalchemy.engine.Engine INSERT INTO users_new (name, fullname, nickname) VALUES (?, ?, ?)\n",
            "2022-04-02 08:43:51,830 INFO sqlalchemy.engine.Engine [cached since 0.01443s ago] ('Johnny', 'Johnny Cash', '$$')\n",
            "2022-04-02 08:43:51,832 INFO sqlalchemy.engine.Engine COMMIT\n"
          ]
        }
      ]
    },
    {
      "cell_type": "markdown",
      "source": [
        "Odczyt z bazy danych"
      ],
      "metadata": {
        "id": "fYFbT_xjdtK-"
      }
    },
    {
      "cell_type": "code",
      "source": [
        "from sqlalchemy import text"
      ],
      "metadata": {
        "id": "UJsOU30SckB1"
      },
      "execution_count": 80,
      "outputs": []
    },
    {
      "cell_type": "code",
      "source": [
        "query = \"\"\"\n",
        "SELECT * \n",
        "FROM users_new\n",
        "\"\"\""
      ],
      "metadata": {
        "id": "0SZlYA4wd1ZO"
      },
      "execution_count": 84,
      "outputs": []
    },
    {
      "cell_type": "code",
      "source": [
        "result = session2.execute(text(query))"
      ],
      "metadata": {
        "id": "LOgzjTc9d-M9",
        "outputId": "ae617832-b4ba-4bd6-d9b1-3c5e72dec55d",
        "colab": {
          "base_uri": "https://localhost:8080/"
        }
      },
      "execution_count": 85,
      "outputs": [
        {
          "output_type": "stream",
          "name": "stdout",
          "text": [
            "2022-04-02 08:51:05,216 INFO sqlalchemy.engine.Engine BEGIN (implicit)\n",
            "2022-04-02 08:51:05,221 INFO sqlalchemy.engine.Engine \n",
            "SELECT * \n",
            "FROM users_new\n",
            "\n",
            "2022-04-02 08:51:05,224 INFO sqlalchemy.engine.Engine [generated in 0.00295s] ()\n"
          ]
        }
      ]
    },
    {
      "cell_type": "code",
      "source": [
        "for row in result:\n",
        "  print(row)"
      ],
      "metadata": {
        "id": "YIZkQNpqeJY9",
        "outputId": "e5bd4619-36b5-442f-8888-c402bcfcdb7b",
        "colab": {
          "base_uri": "https://localhost:8080/"
        }
      },
      "execution_count": 86,
      "outputs": [
        {
          "output_type": "stream",
          "name": "stdout",
          "text": [
            "(1, 'James', 'James Bond', '007')\n",
            "(2, 'user1', 'User 1 USer', '005')\n",
            "(3, 'Johnny', 'Johnny Cash', '$$')\n"
          ]
        }
      ]
    },
    {
      "cell_type": "code",
      "source": [
        "result = engine.execute(text(query))\n"
      ],
      "metadata": {
        "id": "ERNmrvnTePrd",
        "outputId": "3f0193f5-b2cf-4b68-dcec-22c5fa844053",
        "colab": {
          "base_uri": "https://localhost:8080/"
        }
      },
      "execution_count": 87,
      "outputs": [
        {
          "output_type": "stream",
          "name": "stdout",
          "text": [
            "2022-04-02 08:52:11,591 INFO sqlalchemy.engine.Engine \n",
            "SELECT * \n",
            "FROM users_new\n",
            "\n",
            "2022-04-02 08:52:11,594 INFO sqlalchemy.engine.Engine [cached since 66.37s ago] ()\n"
          ]
        }
      ]
    },
    {
      "cell_type": "code",
      "source": [
        "for row in result:\n",
        "  print(row)"
      ],
      "metadata": {
        "id": "zmiMQLXxeZPl",
        "outputId": "afe3f53d-54d0-4051-cc75-f2c2a0454c2d",
        "colab": {
          "base_uri": "https://localhost:8080/"
        }
      },
      "execution_count": 88,
      "outputs": [
        {
          "output_type": "stream",
          "name": "stdout",
          "text": [
            "(1, 'James', 'James Bond', '007')\n",
            "(2, 'user1', 'User 1 USer', '005')\n",
            "(3, 'Johnny', 'Johnny Cash', '$$')\n"
          ]
        }
      ]
    },
    {
      "cell_type": "markdown",
      "source": [
        ""
      ],
      "metadata": {
        "id": "eZ8aT7tRPAUc"
      }
    }
  ]
}