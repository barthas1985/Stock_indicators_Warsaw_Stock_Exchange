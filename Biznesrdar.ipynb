{
  "nbformat": 4,
  "nbformat_minor": 0,
  "metadata": {
    "colab": {
      "name": "Biznesrdar.ipynb",
      "provenance": [],
      "collapsed_sections": [],
      "authorship_tag": "ABX9TyPWygBsT7d+/x7KyqT4PDRY",
      "include_colab_link": true
    },
    "kernelspec": {
      "display_name": "Python 3",
      "name": "python3"
    },
    "language_info": {
      "name": "python"
    }
  },
  "cells": [
    {
      "cell_type": "markdown",
      "metadata": {
        "id": "view-in-github",
        "colab_type": "text"
      },
      "source": [
        "<a href=\"https://colab.research.google.com/github/barthas1985/Stock_indicators_Warsaw_Stock_Exchange/blob/main/Biznesrdar.ipynb\" target=\"_parent\"><img src=\"https://colab.research.google.com/assets/colab-badge.svg\" alt=\"Open In Colab\"/></a>"
      ]
    },
    {
      "cell_type": "code",
      "metadata": {
        "id": "EHh6apygYVQZ"
      },
      "source": [
        "import numpy as np\n",
        "import matplotlib.pyplot as plt\n",
        "plt.style.use('fivethirtyeight')\n",
        "import requests\n",
        "#import urllib.request\n",
        "from bs4 import BeautifulSoup\n",
        "import pandas as pd\n",
        "headers = {'User-Agent':'Mozilla/5.0 (Windows NT 6.3; Win64; x64) AppleWebKit/537.36 (KHTML, like Gecko) Chrome/86.0.4240.198 Safari/537.36'}\n",
        "# List for data that will be result of Looping Through Tabels.\n",
        "wiersze = []\n",
        "# Function that will extract/ parsing data from tabels (placed on website) accoridng to ticker name (companies listed on Warsaw Stock Exchange) and page number. \n",
        "def get_many(ticker, page):\n",
        "  # Source of Data.\n",
        "  url = f'https://www.biznesradar.pl/notowania-historyczne/{ticker},{page}' \n",
        "  # sending a request and return a content of the page.\n",
        "  r = requests.get(url, headers = headers)\n",
        "  # extracting text of content.\n",
        "  soup = BeautifulSoup(r.text, 'html.parser')\n",
        "  # searching for a table with requiered Data.\n",
        "  tabela = soup.find('table', attrs = {'class':'qTableFull'})\n",
        "  # serching for all Table rows\n",
        "  ilosc_wierszy =tabela.findAll('tr')\n",
        "  # looping through each row to extract data from each cell, and appending that data (from each cell) to list 'wiersze'.\n",
        "  for wiersz in ilosc_wierszy:\n",
        "    dane = wiersz.findAll('td')\n",
        "  # Checking if Columns have any data\n",
        "    if len(dane) == 0: \n",
        "        continue\n",
        "\n",
        "    data = dane[0].getText()\n",
        "    otwarcie = dane[1].getText()\n",
        "    max = dane[2].getText()\n",
        "    min = dane[3].getText()\n",
        "    zamkniecie = dane[4].getText()\n",
        "    wolumen = dane[5].getText()\n",
        "    obrot = dane[6].getText()  \n",
        "    wiersze.append([data, otwarcie, max, min, zamkniecie, wolumen, obrot])\n",
        "  \n",
        "  return\n",
        "# Choose Compnies ticker name.\n",
        "print('Enter A Ticker Name: ')\n",
        "ticker = input()\n",
        "ticker = ticker.upper()\n",
        "print(ticker)\n",
        "\n",
        "\n",
        "#upper_ticker = str(ticker).upper()\n",
        "\n",
        "for x in range(1,4):\n",
        "  get_many(ticker,x)\n",
        "\n"
      ],
      "execution_count": null,
      "outputs": []
    },
    {
      "cell_type": "code",
      "metadata": {
        "id": "VDeYnt9ziapl"
      },
      "source": [
        "# Create a dataframe.\n",
        "df = pd.DataFrame(wiersze, columns = ['Data','Otwarcie','Max','Min','Zamknięcie','Wolumen','Obrót'])\n",
        "\n",
        "# Data cleaning\n",
        "df['Data'] = pd.to_datetime(df['Data']).dt.date\n",
        "df['Otwarcie'] = df['Otwarcie'].astype(float)\n",
        "df['Max'] = df['Max'].astype(float)\n",
        "df['Min'] = df['Min'].astype(float)\n",
        "df['Zamknięcie'] =df['Zamknięcie'].astype(float)\n",
        "df['Wolumen'] = df['Wolumen'].str.replace(' ','')\n",
        "df['Wolumen'] = df['Wolumen'].astype(int)\n",
        "df['Obrót'] = df['Obrót'].str.replace(' ','')\n",
        "df['Obrót'] = df['Obrót'].astype(int)\n",
        "\n",
        "\n",
        "print(df.dtypes)\n",
        "df.head()\n"
      ],
      "execution_count": null,
      "outputs": []
    },
    {
      "cell_type": "code",
      "metadata": {
        "id": "HgeyyeaQIUm0"
      },
      "source": [
        "# Exporting data frame in csv file.\n",
        "df.to_excel('lista.xlsx')"
      ],
      "execution_count": null,
      "outputs": []
    },
    {
      "cell_type": "code",
      "metadata": {
        "id": "tEy6RqKBHCfO"
      },
      "source": [
        "df = df.set_index(pd.DatetimeIndex(df['Data'].values))\n"
      ],
      "execution_count": null,
      "outputs": []
    },
    {
      "cell_type": "markdown",
      "metadata": {
        "id": "V_ZkSS7nH1jB"
      },
      "source": [
        "Create SMA and EMA ...( all below is a part that I am still learning:) ) "
      ]
    },
    {
      "cell_type": "code",
      "metadata": {
        "id": "34ne55-IH0-j"
      },
      "source": [
        "def SMA(data, period=30, column = 'Zamknięcie'):\n",
        "  return data[column].rolling(window=period).mean()\n",
        "def EMA(data, period = 20, column ='Zamknięcie'):\n",
        "  return data[column].ewm(span = period, adjust = False).mean()\n",
        "\n"
      ],
      "execution_count": null,
      "outputs": []
    },
    {
      "cell_type": "markdown",
      "metadata": {
        "id": "8S4VSLn7Ip5j"
      },
      "source": [
        "MACD Moving Average Donvergence/Divergence\n"
      ]
    },
    {
      "cell_type": "code",
      "metadata": {
        "id": "0yRVcdRcHw1W"
      },
      "source": [
        "def MACD(data, period_long = 26, period_short = 12, period_signal = 9, column = 'Zamknięcie'):\n",
        "  # Short Term Expotential moving aavergae \n",
        "  ShortEMA = EMA(data, period_short, column = column)\n",
        "  # Long EMA\n",
        "  LongEMA = EMA(data, period_long, column = column)\n",
        "  #Calc MACD\n",
        "  data['MACD'] = ShortEMA - LongEMA\n",
        "  #signal line\n",
        "  data['Signal_Line'] = EMA(data, period_signal, column = 'MACD')\n",
        "  return data\n",
        "\n",
        "  "
      ],
      "execution_count": null,
      "outputs": []
    },
    {
      "cell_type": "markdown",
      "metadata": {
        "id": "cwD9W6WH5OmQ"
      },
      "source": [
        "\n",
        "\n",
        "\n",
        "\n",
        "\n",
        "\n",
        "\n",
        "\n",
        "\n",
        "\n",
        "\n",
        "\n",
        "\n",
        "\n",
        "\n",
        "\n",
        "\n",
        "\n",
        "\n",
        "\n",
        "\n",
        "\n",
        "\n",
        "\n"
      ]
    }
  ]
}