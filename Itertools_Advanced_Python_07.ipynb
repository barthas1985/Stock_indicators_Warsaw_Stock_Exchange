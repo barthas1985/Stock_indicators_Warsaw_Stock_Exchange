{
  "nbformat": 4,
  "nbformat_minor": 0,
  "metadata": {
    "colab": {
      "name": "Itertools - Advanced Python 07.ipynb",
      "provenance": [],
      "authorship_tag": "ABX9TyOOgsKHjsBsKz1I22KkmkUi",
      "include_colab_link": true
    },
    "kernelspec": {
      "name": "python3",
      "display_name": "Python 3"
    },
    "language_info": {
      "name": "python"
    }
  },
  "cells": [
    {
      "cell_type": "markdown",
      "metadata": {
        "id": "view-in-github",
        "colab_type": "text"
      },
      "source": [
        "<a href=\"https://colab.research.google.com/github/barthas1985/Stock_indicators_Warsaw_Stock_Exchange/blob/main/Itertools_Advanced_Python_07.ipynb\" target=\"_parent\"><img src=\"https://colab.research.google.com/assets/colab-badge.svg\" alt=\"Open In Colab\"/></a>"
      ]
    },
    {
      "cell_type": "markdown",
      "source": [
        "https://www.python-engineer.com/courses/advancedpython/07-itertools/"
      ],
      "metadata": {
        "id": "S2Fp3092VuQ0"
      }
    },
    {
      "cell_type": "code",
      "execution_count": null,
      "metadata": {
        "id": "6ZOVhQUuVqNZ"
      },
      "outputs": [],
      "source": [
        "from itertools import product\n"
      ]
    },
    {
      "cell_type": "code",
      "source": [
        "###Product\n",
        "a = [1,2]\n",
        "b = [3]\n",
        "prod = product(a,b, repeat=2)\n",
        "print(prod)\n",
        "print(list(prod))"
      ],
      "metadata": {
        "id": "Ci6QPWj0VvJO",
        "colab": {
          "base_uri": "https://localhost:8080/"
        },
        "outputId": "6bac9836-bccd-41f7-f86a-8f403e7d97da"
      },
      "execution_count": null,
      "outputs": [
        {
          "output_type": "stream",
          "name": "stdout",
          "text": [
            "<itertools.product object at 0x7efce4f20370>\n",
            "[(1, 3, 1, 3), (1, 3, 2, 3), (2, 3, 1, 3), (2, 3, 2, 3)]\n"
          ]
        }
      ]
    },
    {
      "cell_type": "code",
      "source": [
        "###Permutation\n",
        "from itertools import permutations\n",
        "a = [1,2,3,4]\n",
        "perm = permutations(a, 2)\n",
        "print(list(perm))\n",
        "\n"
      ],
      "metadata": {
        "colab": {
          "base_uri": "https://localhost:8080/"
        },
        "id": "lMmxnw3ka22d",
        "outputId": "4004ee80-f03e-4cce-910d-c273d0790a02"
      },
      "execution_count": null,
      "outputs": [
        {
          "output_type": "stream",
          "name": "stdout",
          "text": [
            "[(1, 2), (1, 3), (1, 4), (2, 1), (2, 3), (2, 4), (3, 1), (3, 2), (3, 4), (4, 1), (4, 2), (4, 3)]\n"
          ]
        }
      ]
    },
    {
      "cell_type": "code",
      "source": [
        ""
      ],
      "metadata": {
        "id": "kenW_lbP_kdN"
      },
      "execution_count": null,
      "outputs": []
    },
    {
      "cell_type": "code",
      "source": [
        ""
      ],
      "metadata": {
        "id": "mpURDUnKBriB"
      },
      "execution_count": null,
      "outputs": []
    },
    {
      "cell_type": "code",
      "source": [
        "###Combinations\n",
        "from itertools import combinations, combinations_with_replacement\n",
        "a = [1,2,3,4]\n",
        "comb = combinations(a, 2)\n",
        "print(list(comb))\n",
        "comb_wr = combinations_with_replacement(a,2)\n",
        "print(list(comb_wr))"
      ],
      "metadata": {
        "colab": {
          "base_uri": "https://localhost:8080/"
        },
        "id": "j0kkXvTBbwnM",
        "outputId": "c2e17772-cbea-40a6-8ad8-c509f72f1f63"
      },
      "execution_count": null,
      "outputs": [
        {
          "output_type": "stream",
          "name": "stdout",
          "text": [
            "[(1, 2), (1, 3), (1, 4), (2, 3), (2, 4), (3, 4)]\n",
            "[(1, 1), (1, 2), (1, 3), (1, 4), (2, 2), (2, 3), (2, 4), (3, 3), (3, 4), (4, 4)]\n"
          ]
        }
      ]
    },
    {
      "cell_type": "code",
      "source": [
        "###Accumulated function - iterator that returns acc. sums \n",
        "from itertools import accumulate\n",
        "import operator\n",
        "a = [1,2,3,4]\n",
        "b = a.copy()\n",
        "c = [1,2,3,7,3,4,5]\n",
        "acc = accumulate(a)\n",
        "acc1 = accumulate(b, func = operator.mul)\n",
        "acc2 = accumulate(c, func = max)\n",
        "print(a)\n",
        "print('for acc:',list(acc))\n",
        "print('for acc1:',list(acc1))\n",
        "print('for acc2:', list(acc2))"
      ],
      "metadata": {
        "colab": {
          "base_uri": "https://localhost:8080/"
        },
        "id": "-NfpKhEndL0d",
        "outputId": "29b9e313-317a-4b2e-cfff-127cfa643bb9"
      },
      "execution_count": null,
      "outputs": [
        {
          "output_type": "stream",
          "name": "stdout",
          "text": [
            "[1, 2, 3, 4]\n",
            "for acc: [1, 3, 6, 10]\n",
            "for acc1: [1, 2, 6, 24]\n",
            "for acc2: [1, 2, 3, 7, 7, 7, 7]\n"
          ]
        }
      ]
    },
    {
      "cell_type": "code",
      "source": [
        "### Group by function- return keys and groups from iterable\n",
        "from itertools import groupby\n",
        "a = [1,2,3,4]\n",
        "def greater_than(x):\n",
        "  return x>3\n",
        "  # if x >3:\n",
        "  #   print('wartość zadana jest większa niż 3')\n",
        "  # else:\n",
        "  #   print('wartość zadana jest mniejsza niż 3')\n",
        "\n",
        "# r1 =greater_than(1)\n",
        "# r2 =greater_than(6)\n",
        "\n",
        "group_obj =  groupby(a, key = greater_than) # lambda x: x>3 - more sexy option\n",
        "print(group_obj)\n",
        "for key, value in group_obj:\n",
        "  print(key, list(value))\n",
        "\n",
        "persons = [{'name': 'Tim', 'age': 25}, {'name': 'Dan', 'age': 25}, \n",
        "           {'name': 'Lisa', 'age': 27}, {'name': 'Claire', 'age': 28}]\n",
        "group_obj1 = groupby(persons, key = lambda x: x['age'] )\n",
        "for key, value in group_obj1:\n",
        "  print(key, list(value))"
      ],
      "metadata": {
        "colab": {
          "base_uri": "https://localhost:8080/"
        },
        "id": "3xPsaqEfeBEQ",
        "outputId": "438b29ce-5a30-4592-b885-6028721a8be7"
      },
      "execution_count": null,
      "outputs": [
        {
          "output_type": "stream",
          "name": "stdout",
          "text": [
            "<itertools.groupby object at 0x7f47cac8a950>\n",
            "False [1, 2, 3]\n",
            "True [4]\n",
            "25 [{'name': 'Tim', 'age': 25}, {'name': 'Dan', 'age': 25}]\n",
            "27 [{'name': 'Lisa', 'age': 27}]\n",
            "28 [{'name': 'Claire', 'age': 28}]\n"
          ]
        }
      ]
    },
    {
      "cell_type": "code",
      "source": [
        "### Count, cycle, repeat\n",
        "from itertools import count, cycle, repeat\n",
        "\n",
        "for i in count(5):\n",
        "   print(i)\n",
        "   if i ==50:\n",
        "     break\n",
        "a = [1,2,3]\n",
        "for i in cycle(a):\n",
        "  print(i)\n",
        "# for i in repeat('hello there:)',7):\n",
        "#   print(i)"
      ],
      "metadata": {
        "colab": {
          "base_uri": "https://localhost:8080/",
          "height": 963
        },
        "id": "RTGF3zDonixb",
        "outputId": "f212b927-00ef-4ccf-82de-58ea6d5f6d6b"
      },
      "execution_count": null,
      "outputs": [
        {
          "output_type": "stream",
          "name": "stderr",
          "text": [
            "ERROR:root:Internal Python error in the inspect module.\n",
            "Below is the traceback from this internal error.\n",
            "\n"
          ]
        },
        {
          "output_type": "stream",
          "name": "stdout",
          "text": [
            "Traceback (most recent call last):\n",
            "  File \"/usr/local/lib/python3.7/dist-packages/IPython/core/interactiveshell.py\", line 2882, in run_code\n",
            "    exec(code_obj, self.user_global_ns, self.user_ns)\n",
            "  File \"<ipython-input-5-63c8d6353410>\", line 10, in <module>\n",
            "    print(i)\n",
            "  File \"/usr/local/lib/python3.7/dist-packages/ipykernel/iostream.py\", line 400, in write\n",
            "    self.pub_thread.schedule(lambda : self._buffer.write(string))\n",
            "  File \"/usr/local/lib/python3.7/dist-packages/ipykernel/iostream.py\", line 203, in schedule\n",
            "    self._event_pipe.send(b'')\n",
            "  File \"/usr/local/lib/python3.7/dist-packages/zmq/sugar/socket.py\", line 547, in send\n",
            "    return super(Socket, self).send(data, flags=flags, copy=copy, track=track)\n",
            "  File \"zmq/backend/cython/socket.pyx\", line 718, in zmq.backend.cython.socket.Socket.send\n",
            "  File \"zmq/backend/cython/socket.pyx\", line 765, in zmq.backend.cython.socket.Socket.send\n",
            "  File \"zmq/backend/cython/socket.pyx\", line 242, in zmq.backend.cython.socket._send_copy\n",
            "  File \"zmq/backend/cython/checkrc.pxd\", line 13, in zmq.backend.cython.checkrc._check_rc\n",
            "KeyboardInterrupt\n",
            "\n",
            "During handling of the above exception, another exception occurred:\n",
            "\n",
            "Traceback (most recent call last):\n",
            "  File \"/usr/local/lib/python3.7/dist-packages/IPython/core/interactiveshell.py\", line 1823, in showtraceback\n",
            "    stb = value._render_traceback_()\n",
            "AttributeError: 'KeyboardInterrupt' object has no attribute '_render_traceback_'\n",
            "\n",
            "During handling of the above exception, another exception occurred:\n",
            "\n",
            "Traceback (most recent call last):\n",
            "  File \"/usr/local/lib/python3.7/dist-packages/IPython/core/ultratb.py\", line 1132, in get_records\n",
            "    return _fixed_getinnerframes(etb, number_of_lines_of_context, tb_offset)\n",
            "  File \"/usr/local/lib/python3.7/dist-packages/IPython/core/ultratb.py\", line 313, in wrapped\n",
            "    return f(*args, **kwargs)\n",
            "  File \"/usr/local/lib/python3.7/dist-packages/IPython/core/ultratb.py\", line 358, in _fixed_getinnerframes\n",
            "    records = fix_frame_records_filenames(inspect.getinnerframes(etb, context))\n",
            "  File \"/usr/lib/python3.7/inspect.py\", line 1502, in getinnerframes\n",
            "    frameinfo = (tb.tb_frame,) + getframeinfo(tb, context)\n",
            "  File \"/usr/lib/python3.7/inspect.py\", line 1460, in getframeinfo\n",
            "    filename = getsourcefile(frame) or getfile(frame)\n",
            "  File \"/usr/lib/python3.7/inspect.py\", line 696, in getsourcefile\n",
            "    if getattr(getmodule(object, filename), '__loader__', None) is not None:\n",
            "  File \"/usr/lib/python3.7/inspect.py\", line 742, in getmodule\n",
            "    os.path.realpath(f)] = module.__name__\n",
            "  File \"/usr/lib/python3.7/posixpath.py\", line 395, in realpath\n",
            "    path, ok = _joinrealpath(filename[:0], filename, {})\n",
            "  File \"/usr/lib/python3.7/posixpath.py\", line 429, in _joinrealpath\n",
            "    if not islink(newpath):\n",
            "  File \"/usr/lib/python3.7/posixpath.py\", line 171, in islink\n",
            "    st = os.lstat(path)\n",
            "KeyboardInterrupt\n"
          ]
        },
        {
          "output_type": "error",
          "ename": "KeyboardInterrupt",
          "evalue": "ignored",
          "traceback": [
            "\u001b[0;31m---------------------------------------------------------------------------\u001b[0m"
          ]
        }
      ]
    },
    {
      "cell_type": "code",
      "source": [
        "a = lambda x: x**2\n",
        "print(a(5))"
      ],
      "metadata": {
        "colab": {
          "base_uri": "https://localhost:8080/"
        },
        "id": "8wQlvs6impAz",
        "outputId": "0098ca16-3db6-4332-a5ea-a94ab9d2d293"
      },
      "execution_count": null,
      "outputs": [
        {
          "output_type": "stream",
          "name": "stdout",
          "text": [
            "25\n"
          ]
        }
      ]
    },
    {
      "cell_type": "code",
      "source": [
        "a = [1,2,3,4,5]\n",
        "b = [ 2*h for h in a]\n",
        "print(b)"
      ],
      "metadata": {
        "colab": {
          "base_uri": "https://localhost:8080/"
        },
        "id": "jLbYtoAKtDVM",
        "outputId": "38c478b4-f571-4a52-959a-01e3477f99ad"
      },
      "execution_count": null,
      "outputs": [
        {
          "output_type": "stream",
          "name": "stdout",
          "text": [
            "[2, 4, 6, 8, 10]\n"
          ]
        }
      ]
    },
    {
      "cell_type": "code",
      "source": [
        "x = 1%5\n",
        "print(x)\n",
        "\n",
        "t = [x**2 for x in range(1,101)]\n",
        "t1 = [x**2%5 for x in range(1,101)]\n",
        "print(t)\n",
        "print(t1)\n",
        "\n",
        "\n",
        "sqr = []\n",
        "for i in range(1,101):\n",
        "  sqr.append(i**2)\n",
        "print(sqr)\n",
        "\n",
        "squares2 =  [x**2 for x in range(1, 101)]\n",
        "print(squares2)\n",
        "print(len(squares2))\n",
        "\n",
        "fruits = ['banana', 'apple', 'orange']\n",
        "emp_list = []\n",
        "for i in fruits:\n",
        "  if i.startswith('b'):\n",
        "    x = i.upper()\n",
        "    emp_list.append(x)\n",
        "    x = i.upper()\n",
        " \n",
        "print(emp_list)\n",
        "\n",
        "\n",
        "new_list = [ i for i in fruits if i.startswith('b')]\n",
        "print(new_list)\n",
        "\n",
        "movies = [('Citizen Kane', 1941), ('Spirited Away', 2001), ('It is wonderful life', 1946)]\n",
        "pre2k = [title for (title, year) in movies if year < 2000]\n",
        "print(pre2k)\n",
        "\n",
        "v = [2,-3,1]\n",
        "w = [4*x for x in v]\n",
        "print(w)\n",
        "A = [1,3,5,7]\n",
        "B = [2,4,6,8]\n",
        "f = [(a,b) for a in A for b in B]\n",
        "print(f)"
      ],
      "metadata": {
        "colab": {
          "base_uri": "https://localhost:8080/"
        },
        "id": "D4wCCXcYfkos",
        "outputId": "810a01a3-df03-4b12-9197-4335470bdb26"
      },
      "execution_count": null,
      "outputs": [
        {
          "output_type": "stream",
          "name": "stdout",
          "text": [
            "1\n",
            "[1, 4, 9, 16, 25, 36, 49, 64, 81, 100, 121, 144, 169, 196, 225, 256, 289, 324, 361, 400, 441, 484, 529, 576, 625, 676, 729, 784, 841, 900, 961, 1024, 1089, 1156, 1225, 1296, 1369, 1444, 1521, 1600, 1681, 1764, 1849, 1936, 2025, 2116, 2209, 2304, 2401, 2500, 2601, 2704, 2809, 2916, 3025, 3136, 3249, 3364, 3481, 3600, 3721, 3844, 3969, 4096, 4225, 4356, 4489, 4624, 4761, 4900, 5041, 5184, 5329, 5476, 5625, 5776, 5929, 6084, 6241, 6400, 6561, 6724, 6889, 7056, 7225, 7396, 7569, 7744, 7921, 8100, 8281, 8464, 8649, 8836, 9025, 9216, 9409, 9604, 9801, 10000]\n",
            "[1, 4, 4, 1, 0, 1, 4, 4, 1, 0, 1, 4, 4, 1, 0, 1, 4, 4, 1, 0, 1, 4, 4, 1, 0, 1, 4, 4, 1, 0, 1, 4, 4, 1, 0, 1, 4, 4, 1, 0, 1, 4, 4, 1, 0, 1, 4, 4, 1, 0, 1, 4, 4, 1, 0, 1, 4, 4, 1, 0, 1, 4, 4, 1, 0, 1, 4, 4, 1, 0, 1, 4, 4, 1, 0, 1, 4, 4, 1, 0, 1, 4, 4, 1, 0, 1, 4, 4, 1, 0, 1, 4, 4, 1, 0, 1, 4, 4, 1, 0]\n",
            "[1, 4, 9, 16, 25, 36, 49, 64, 81, 100, 121, 144, 169, 196, 225, 256, 289, 324, 361, 400, 441, 484, 529, 576, 625, 676, 729, 784, 841, 900, 961, 1024, 1089, 1156, 1225, 1296, 1369, 1444, 1521, 1600, 1681, 1764, 1849, 1936, 2025, 2116, 2209, 2304, 2401, 2500, 2601, 2704, 2809, 2916, 3025, 3136, 3249, 3364, 3481, 3600, 3721, 3844, 3969, 4096, 4225, 4356, 4489, 4624, 4761, 4900, 5041, 5184, 5329, 5476, 5625, 5776, 5929, 6084, 6241, 6400, 6561, 6724, 6889, 7056, 7225, 7396, 7569, 7744, 7921, 8100, 8281, 8464, 8649, 8836, 9025, 9216, 9409, 9604, 9801, 10000]\n",
            "[1, 4, 9, 16, 25, 36, 49, 64, 81, 100, 121, 144, 169, 196, 225, 256, 289, 324, 361, 400, 441, 484, 529, 576, 625, 676, 729, 784, 841, 900, 961, 1024, 1089, 1156, 1225, 1296, 1369, 1444, 1521, 1600, 1681, 1764, 1849, 1936, 2025, 2116, 2209, 2304, 2401, 2500, 2601, 2704, 2809, 2916, 3025, 3136, 3249, 3364, 3481, 3600, 3721, 3844, 3969, 4096, 4225, 4356, 4489, 4624, 4761, 4900, 5041, 5184, 5329, 5476, 5625, 5776, 5929, 6084, 6241, 6400, 6561, 6724, 6889, 7056, 7225, 7396, 7569, 7744, 7921, 8100, 8281, 8464, 8649, 8836, 9025, 9216, 9409, 9604, 9801, 10000]\n",
            "100\n",
            "['BANANA']\n",
            "['banana']\n",
            "['Citizen Kane', 'It is wonderful life']\n",
            "[8, -12, 4]\n",
            "[(1, 2), (1, 4), (1, 6), (1, 8), (3, 2), (3, 4), (3, 6), (3, 8), (5, 2), (5, 4), (5, 6), (5, 8), (7, 2), (7, 4), (7, 6), (7, 8)]\n"
          ]
        }
      ]
    },
    {
      "cell_type": "markdown",
      "source": [
        "https://www.youtube.com/watch?v=HJpiAZDJrRY"
      ],
      "metadata": {
        "id": "FZzQ2PZwp-B7"
      }
    },
    {
      "cell_type": "code",
      "source": [
        "#1 Slicing\n",
        "# s = '0123hello'\n",
        "# s = s[4:9]\n",
        "# print(s)\n",
        "\n",
        "#2 strip()\n",
        "# s = 'hhhhellhh'.strip('ell')\n",
        "# print(s)\n",
        "# s = 'hhhellohhhh'.strip('h')\n",
        "# print(s)\n",
        "# s1 = 'd bartddd'.strip('d')\n",
        "# print(s1)\n",
        "#2 strip()\n",
        "\n",
        "#3 lstrip()\n",
        "# s = '   hello   '.lstrip()\n",
        "# s1 = '   hello   '.rstrip()\n",
        "# print(s)\n",
        "# print(s1)\n",
        "#5/6 removeprefix and removesuffix\n",
        "# import pathlib\n",
        "\n",
        "# pathlib.Path(\"x.png\").with_suffix(\"\")\n",
        "# s = 'Hello_World'.removeprefix()\n",
        "# print(s)\n",
        "\n",
        "#7 Replace\n",
        "# s = ' Hello Bart '.replace(' ', 'XXX')\n",
        "# print(s)\n",
        "#8 re.sub\n",
        "# import re\n",
        "# s = ' Hello Bart '\n",
        "# s2 = re.sub('\\s+', 'XXX', s)\n",
        "# print(s2)\n",
        "#8 Split()\n",
        "# s ='hell sdsd sd dsdsd '.split(' ', maxsplit=2)\n",
        "# print(s)\n",
        "#10. rsplit()\n",
        "# s ='hell sdsd sd dsdsd'.rsplit(' ', maxsplit=1)\n",
        "# print(s)\n",
        "\n",
        "#11 join()\n",
        "# lista = ['hello', 'world']\n",
        "# s = '-'.join(lista)\n",
        "# print(s)\n",
        "#12 upper lower capitalize\n",
        "#15and 16 islower() and isupper()\n",
        "#print('hllo'.islower())\n",
        "#17 18 19 \n",
        "# s = '123-ghgh'\n",
        "# print(s.isalpha(),s.isnumeric(),s.isalnum())\n",
        "# t = '222'\n",
        "# if t.isnumeric():\n",
        "#   print(\n",
        "#   print(type(t))\n",
        "# print(t)\n",
        "#20 count()\n",
        "print('bbaaaaaa'.count('a'))\n",
        "#21 find() will serach for index\n",
        "print('Machine Learning'.find('a',2))\n",
        "#22 r find\n",
        "print('Machine Learning'.rfind('n'))\n",
        "#22,23 \n",
        "print('Bart'.startswith('v'))\n",
        "print('Bart'.endswith('T'.lower())) # :)\n",
        "\n",
        "#25Partition\n",
        "print('bart is a nice guy'.partition('a'))\n",
        "#26, 27,28 Center(), ljust(), rjust()\n",
        "print('Hello World'.center(13,'*'))\n",
        "print('Hello World'.ljust(13,'*'))\n",
        "print('Hello World'.rjust(13,'*'))\n",
        "#29 f string\n",
        "#30 sawpcase()\n",
        "print('Bart Gajek'.swapcase())\n",
        "#31 zfill()\n",
        "print('34'.zfill(5))\n",
        "print('-34'.zfill(5))"
      ],
      "metadata": {
        "colab": {
          "base_uri": "https://localhost:8080/"
        },
        "id": "I0JkH0ODp9kp",
        "outputId": "61dbdd3f-e39b-4d3f-b91e-5787a2b641f3"
      },
      "execution_count": null,
      "outputs": [
        {
          "output_type": "stream",
          "name": "stdout",
          "text": [
            "6\n",
            "10\n",
            "14\n",
            "False\n",
            "True\n",
            "('b', 'a', 'rt is a nice guy')\n",
            "*Hello World*\n",
            "Hello World**\n",
            "**Hello World\n",
            "bART gAJEK\n",
            "00034\n",
            "-0034\n"
          ]
        }
      ]
    },
    {
      "cell_type": "code",
      "source": [
        "\n",
        "\n",
        "\n",
        "def smallest(x,y):\n",
        "  if x >y:\n",
        "    return x\n",
        "  return y\n",
        "\n",
        "def three_smallest(x,y,z):\n",
        "  return smallest(x,smallest(y,z))\n",
        "\n",
        "#smallest(1,2)\n",
        "print(three_smallest(1,2,3))\n",
        "\n",
        "\n",
        "def max_of_two( x, y ):\n",
        "    if x > y:\n",
        "        return x\n",
        "    return y\n",
        "def max_of_three( x, y, z ):\n",
        "    return max_of_two( x, max_of_two( y, z ) )\n",
        "print(max_of_three(7, 6, -5))\n",
        "\n",
        "# Write a Python function to sum all the numbers in a list. Go to the editor\n",
        "# Sample List : (8, 2, 3, 0, 7)\n",
        "# Expected Output : 20\n",
        "\n",
        "def suma(list_of_no=None):\n",
        "  if list_of_no == None:\n",
        "    list_of_none =[]\n",
        "  else:\n",
        "    "
      ],
      "metadata": {
        "id": "p1mCXKyL77I6"
      },
      "execution_count": null,
      "outputs": []
    },
    {
      "cell_type": "code",
      "source": [
        "from collections import Counter \n",
        "labels = ['a']\n",
        "total_count = len(labels)\n",
        "print(len(labels))\n",
        "print(Counter(labels).keys())\n",
        "n_labels = [count/total_count for count in Counter(labels).values()]\n",
        "print(n_labels)"
      ],
      "metadata": {
        "colab": {
          "base_uri": "https://localhost:8080/"
        },
        "id": "8WJIt2fHvewc",
        "outputId": "afb2ed86-ebfc-49a0-df76-516e2b8d8cb6"
      },
      "execution_count": null,
      "outputs": [
        {
          "output_type": "stream",
          "name": "stdout",
          "text": [
            "1\n",
            "dict_keys(['a'])\n",
            "[1.0]\n"
          ]
        }
      ]
    }
  ]
}